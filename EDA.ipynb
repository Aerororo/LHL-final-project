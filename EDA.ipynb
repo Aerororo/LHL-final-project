{
 "cells": [
  {
   "cell_type": "code",
   "execution_count": 86,
   "metadata": {},
   "outputs": [],
   "source": [
    "import warnings\n",
    "warnings.filterwarnings('ignore')\n",
    "\n",
    "import numpy as np\n",
    "import pandas as pd\n",
    "from tqdm import tqdm #progress bar\n",
    "import matplotlib.pyplot as plt\n",
    "import seaborn as sns\n",
    "from pivottablejs import pivot_ui"
   ]
  },
  {
   "cell_type": "code",
   "execution_count": 87,
   "metadata": {},
   "outputs": [],
   "source": [
    "path = '/home/jewelle/data_bootcamp/LHL-final-project/'\n",
    "\n",
    "#steam games dataset\n",
    "df = pd.read_csv(path + 'steam-200k.csv', names=['userID','game','action','hours_played','other'])"
   ]
  },
  {
   "cell_type": "code",
   "execution_count": 88,
   "metadata": {},
   "outputs": [
    {
     "data": {
      "text/html": [
       "<div>\n",
       "<style scoped>\n",
       "    .dataframe tbody tr th:only-of-type {\n",
       "        vertical-align: middle;\n",
       "    }\n",
       "\n",
       "    .dataframe tbody tr th {\n",
       "        vertical-align: top;\n",
       "    }\n",
       "\n",
       "    .dataframe thead th {\n",
       "        text-align: right;\n",
       "    }\n",
       "</style>\n",
       "<table border=\"1\" class=\"dataframe\">\n",
       "  <thead>\n",
       "    <tr style=\"text-align: right;\">\n",
       "      <th></th>\n",
       "      <th>userID</th>\n",
       "      <th>game</th>\n",
       "      <th>action</th>\n",
       "      <th>hours_played</th>\n",
       "      <th>other</th>\n",
       "    </tr>\n",
       "  </thead>\n",
       "  <tbody>\n",
       "    <tr>\n",
       "      <th>0</th>\n",
       "      <td>151603712</td>\n",
       "      <td>The Elder Scrolls V Skyrim</td>\n",
       "      <td>purchase</td>\n",
       "      <td>1.0</td>\n",
       "      <td>0</td>\n",
       "    </tr>\n",
       "    <tr>\n",
       "      <th>1</th>\n",
       "      <td>151603712</td>\n",
       "      <td>The Elder Scrolls V Skyrim</td>\n",
       "      <td>play</td>\n",
       "      <td>273.0</td>\n",
       "      <td>0</td>\n",
       "    </tr>\n",
       "    <tr>\n",
       "      <th>2</th>\n",
       "      <td>151603712</td>\n",
       "      <td>Fallout 4</td>\n",
       "      <td>purchase</td>\n",
       "      <td>1.0</td>\n",
       "      <td>0</td>\n",
       "    </tr>\n",
       "    <tr>\n",
       "      <th>3</th>\n",
       "      <td>151603712</td>\n",
       "      <td>Fallout 4</td>\n",
       "      <td>play</td>\n",
       "      <td>87.0</td>\n",
       "      <td>0</td>\n",
       "    </tr>\n",
       "    <tr>\n",
       "      <th>4</th>\n",
       "      <td>151603712</td>\n",
       "      <td>Spore</td>\n",
       "      <td>purchase</td>\n",
       "      <td>1.0</td>\n",
       "      <td>0</td>\n",
       "    </tr>\n",
       "  </tbody>\n",
       "</table>\n",
       "</div>"
      ],
      "text/plain": [
       "      userID                        game    action  hours_played  other\n",
       "0  151603712  The Elder Scrolls V Skyrim  purchase           1.0      0\n",
       "1  151603712  The Elder Scrolls V Skyrim      play         273.0      0\n",
       "2  151603712                   Fallout 4  purchase           1.0      0\n",
       "3  151603712                   Fallout 4      play          87.0      0\n",
       "4  151603712                       Spore  purchase           1.0      0"
      ]
     },
     "execution_count": 88,
     "metadata": {},
     "output_type": "execute_result"
    }
   ],
   "source": [
    "df.head()"
   ]
  },
  {
   "cell_type": "code",
   "execution_count": 89,
   "metadata": {},
   "outputs": [
    {
     "data": {
      "text/plain": [
       "(200000, 5)"
      ]
     },
     "execution_count": 89,
     "metadata": {},
     "output_type": "execute_result"
    }
   ],
   "source": [
    "df.shape"
   ]
  },
  {
   "cell_type": "code",
   "execution_count": 243,
   "metadata": {},
   "outputs": [
    {
     "data": {
      "text/html": [
       "<div>\n",
       "<style scoped>\n",
       "    .dataframe tbody tr th:only-of-type {\n",
       "        vertical-align: middle;\n",
       "    }\n",
       "\n",
       "    .dataframe tbody tr th {\n",
       "        vertical-align: top;\n",
       "    }\n",
       "\n",
       "    .dataframe thead th {\n",
       "        text-align: right;\n",
       "    }\n",
       "</style>\n",
       "<table border=\"1\" class=\"dataframe\">\n",
       "  <thead>\n",
       "    <tr style=\"text-align: right;\">\n",
       "      <th></th>\n",
       "      <th>game</th>\n",
       "      <th>platform</th>\n",
       "      <th>developer</th>\n",
       "      <th>genre</th>\n",
       "      <th>number_players</th>\n",
       "      <th>rating</th>\n",
       "      <th>release_date</th>\n",
       "      <th>positive_critics</th>\n",
       "      <th>neutral_critics</th>\n",
       "      <th>negative_critics</th>\n",
       "      <th>positive_users</th>\n",
       "      <th>neutral_users</th>\n",
       "      <th>negative_users</th>\n",
       "      <th>metascore</th>\n",
       "      <th>user_score</th>\n",
       "    </tr>\n",
       "  </thead>\n",
       "  <tbody>\n",
       "    <tr>\n",
       "      <th>0</th>\n",
       "      <td>Portal 2</td>\n",
       "      <td>PC</td>\n",
       "      <td>Valve Software</td>\n",
       "      <td>Action</td>\n",
       "      <td>NaN</td>\n",
       "      <td>E10+</td>\n",
       "      <td>Apr 18, 2011</td>\n",
       "      <td>51</td>\n",
       "      <td>1</td>\n",
       "      <td>0</td>\n",
       "      <td>1700</td>\n",
       "      <td>107</td>\n",
       "      <td>19</td>\n",
       "      <td>95</td>\n",
       "      <td>90</td>\n",
       "    </tr>\n",
       "    <tr>\n",
       "      <th>1</th>\n",
       "      <td>The Elder Scrolls V: Skyrim</td>\n",
       "      <td>PC</td>\n",
       "      <td>Bethesda Game Studios</td>\n",
       "      <td>Role-Playing</td>\n",
       "      <td>No Online Multiplayer</td>\n",
       "      <td>M</td>\n",
       "      <td>Nov 10, 2011</td>\n",
       "      <td>32</td>\n",
       "      <td>0</td>\n",
       "      <td>0</td>\n",
       "      <td>1616</td>\n",
       "      <td>322</td>\n",
       "      <td>451</td>\n",
       "      <td>94</td>\n",
       "      <td>82</td>\n",
       "    </tr>\n",
       "    <tr>\n",
       "      <th>2</th>\n",
       "      <td>The Legend of Zelda: Ocarina of Time 3D</td>\n",
       "      <td>3DS</td>\n",
       "      <td>GREZZO</td>\n",
       "      <td>Miscellaneous</td>\n",
       "      <td>No Online Multiplayer</td>\n",
       "      <td>E10+</td>\n",
       "      <td>Jun 19, 2011</td>\n",
       "      <td>84</td>\n",
       "      <td>1</td>\n",
       "      <td>0</td>\n",
       "      <td>283</td>\n",
       "      <td>20</td>\n",
       "      <td>5</td>\n",
       "      <td>94</td>\n",
       "      <td>90</td>\n",
       "    </tr>\n",
       "    <tr>\n",
       "      <th>3</th>\n",
       "      <td>Batman: Arkham City</td>\n",
       "      <td>PC</td>\n",
       "      <td>Rocksteady Studios</td>\n",
       "      <td>Action Adventure</td>\n",
       "      <td>NaN</td>\n",
       "      <td>T</td>\n",
       "      <td>Nov 21, 2011</td>\n",
       "      <td>27</td>\n",
       "      <td>0</td>\n",
       "      <td>0</td>\n",
       "      <td>240</td>\n",
       "      <td>34</td>\n",
       "      <td>27</td>\n",
       "      <td>91</td>\n",
       "      <td>87</td>\n",
       "    </tr>\n",
       "    <tr>\n",
       "      <th>4</th>\n",
       "      <td>Super Mario 3D Land</td>\n",
       "      <td>3DS</td>\n",
       "      <td>Nintendo</td>\n",
       "      <td>Action</td>\n",
       "      <td>No Online Multiplayer</td>\n",
       "      <td>E</td>\n",
       "      <td>Nov 13, 2011</td>\n",
       "      <td>81</td>\n",
       "      <td>1</td>\n",
       "      <td>0</td>\n",
       "      <td>251</td>\n",
       "      <td>39</td>\n",
       "      <td>11</td>\n",
       "      <td>90</td>\n",
       "      <td>84</td>\n",
       "    </tr>\n",
       "  </tbody>\n",
       "</table>\n",
       "</div>"
      ],
      "text/plain": [
       "                                      game platform              developer  \\\n",
       "0                                 Portal 2       PC         Valve Software   \n",
       "1              The Elder Scrolls V: Skyrim       PC  Bethesda Game Studios   \n",
       "2  The Legend of Zelda: Ocarina of Time 3D      3DS                 GREZZO   \n",
       "3                      Batman: Arkham City       PC     Rocksteady Studios   \n",
       "4                      Super Mario 3D Land      3DS               Nintendo   \n",
       "\n",
       "              genre         number_players rating  release_date  \\\n",
       "0            Action                    NaN   E10+  Apr 18, 2011   \n",
       "1      Role-Playing  No Online Multiplayer      M  Nov 10, 2011   \n",
       "2     Miscellaneous  No Online Multiplayer   E10+  Jun 19, 2011   \n",
       "3  Action Adventure                    NaN      T  Nov 21, 2011   \n",
       "4            Action  No Online Multiplayer      E  Nov 13, 2011   \n",
       "\n",
       "   positive_critics  neutral_critics  negative_critics  positive_users  \\\n",
       "0                51                1                 0            1700   \n",
       "1                32                0                 0            1616   \n",
       "2                84                1                 0             283   \n",
       "3                27                0                 0             240   \n",
       "4                81                1                 0             251   \n",
       "\n",
       "   neutral_users  negative_users  metascore  user_score  \n",
       "0            107              19         95          90  \n",
       "1            322             451         94          82  \n",
       "2             20               5         94          90  \n",
       "3             34              27         91          87  \n",
       "4             39              11         90          84  "
      ]
     },
     "execution_count": 243,
     "metadata": {},
     "output_type": "execute_result"
    }
   ],
   "source": [
    "#metacritic ratings dataset\n",
    "ratings = pd.read_csv(path + 'metacritic_games.csv')\n",
    "ratings.head()"
   ]
  },
  {
   "cell_type": "code",
   "execution_count": 244,
   "metadata": {},
   "outputs": [
    {
     "data": {
      "text/plain": [
       "(5699, 15)"
      ]
     },
     "execution_count": 244,
     "metadata": {},
     "output_type": "execute_result"
    }
   ],
   "source": [
    "ratings.shape"
   ]
  },
  {
   "cell_type": "markdown",
   "metadata": {},
   "source": [
    "### Quick User Analysis"
   ]
  },
  {
   "cell_type": "markdown",
   "metadata": {},
   "source": [
    "- identify user clusters\n",
    "- purchased games do not necessarily have logged play hours\n",
    "- identify top 10 in time/purchase"
   ]
  },
  {
   "cell_type": "code",
   "execution_count": 126,
   "metadata": {},
   "outputs": [
    {
     "data": {
      "text/html": [
       "<div>\n",
       "<style scoped>\n",
       "    .dataframe tbody tr th:only-of-type {\n",
       "        vertical-align: middle;\n",
       "    }\n",
       "\n",
       "    .dataframe tbody tr th {\n",
       "        vertical-align: top;\n",
       "    }\n",
       "\n",
       "    .dataframe thead th {\n",
       "        text-align: right;\n",
       "    }\n",
       "</style>\n",
       "<table border=\"1\" class=\"dataframe\">\n",
       "  <thead>\n",
       "    <tr style=\"text-align: right;\">\n",
       "      <th></th>\n",
       "      <th>Total</th>\n",
       "      <th>Percent</th>\n",
       "    </tr>\n",
       "  </thead>\n",
       "  <tbody>\n",
       "    <tr>\n",
       "      <th>other</th>\n",
       "      <td>0</td>\n",
       "      <td>0.0</td>\n",
       "    </tr>\n",
       "    <tr>\n",
       "      <th>hours_played</th>\n",
       "      <td>0</td>\n",
       "      <td>0.0</td>\n",
       "    </tr>\n",
       "    <tr>\n",
       "      <th>action</th>\n",
       "      <td>0</td>\n",
       "      <td>0.0</td>\n",
       "    </tr>\n",
       "    <tr>\n",
       "      <th>game</th>\n",
       "      <td>0</td>\n",
       "      <td>0.0</td>\n",
       "    </tr>\n",
       "    <tr>\n",
       "      <th>userID</th>\n",
       "      <td>0</td>\n",
       "      <td>0.0</td>\n",
       "    </tr>\n",
       "  </tbody>\n",
       "</table>\n",
       "</div>"
      ],
      "text/plain": [
       "              Total  Percent\n",
       "other             0      0.0\n",
       "hours_played      0      0.0\n",
       "action            0      0.0\n",
       "game              0      0.0\n",
       "userID            0      0.0"
      ]
     },
     "execution_count": 126,
     "metadata": {},
     "output_type": "execute_result"
    }
   ],
   "source": [
    "#check for missing values in df\n",
    "total = df.isnull().sum().sort_values(ascending=False)\n",
    "percent = (df.isnull().sum()/df.isnull().count()).sort_values(ascending=False)\n",
    "missing_data = pd.concat([total, percent], axis=1, keys=['Total', 'Percent'])\n",
    "missing_data.head()"
   ]
  },
  {
   "cell_type": "code",
   "execution_count": 100,
   "metadata": {},
   "outputs": [
    {
     "data": {
      "text/plain": [
       "<matplotlib.axes._subplots.AxesSubplot at 0x7f561a913e50>"
      ]
     },
     "execution_count": 100,
     "metadata": {},
     "output_type": "execute_result"
    },
    {
     "data": {
      "image/png": "[encoded data removed]",
      "text/plain": [
       "<Figure size 432x288 with 1 Axes>"
      ]
     },
     "metadata": {
      "needs_background": "light"
     },
     "output_type": "display_data"
    }
   ],
   "source": [
    "sns.set_palette(\"husl\", 8)\n",
    "\n",
    "df_purchase = df.loc[df['action'] == 'purchase']\n",
    "purchased_times = df_purchase.groupby('game')['game'].agg('count').sort_values(ascending=False)\n",
    "purchased_times = pd.DataFrame({'game': purchased_times.index, 'times_purchased': purchased_times.values})[0:10]\n",
    "\n",
    "sns.barplot(y = 'game', \n",
    "            x = 'times_purchased', \n",
    "            data = purchased_times)"
   ]
  },
  {
   "cell_type": "code",
   "execution_count": 101,
   "metadata": {},
   "outputs": [
    {
     "data": {
      "text/plain": [
       "<matplotlib.axes._subplots.AxesSubplot at 0x7f561a8110d0>"
      ]
     },
     "execution_count": 101,
     "metadata": {},
     "output_type": "execute_result"
    },
    {
     "data": {
      "image/png": "[encoded data removed]",
      "text/plain": [
       "<Figure size 432x288 with 1 Axes>"
      ]
     },
     "metadata": {
      "needs_background": "light"
     },
     "output_type": "display_data"
    }
   ],
   "source": [
    "df_play = df.loc[df['action'] == 'play']\n",
    "hours_played = df_play.groupby('game')['hours_played'].agg(np.sum).sort_values(ascending=False)\n",
    "hours_played = pd.DataFrame({'game': hours_played.index, 'hours_played': hours_played.values})[0:10]\n",
    "\n",
    "sns.barplot(y = 'game', \n",
    "            x = 'hours_played', \n",
    "            data = hours_played)"
   ]
  },
  {
   "cell_type": "code",
   "execution_count": 104,
   "metadata": {},
   "outputs": [
    {
     "data": {
      "text/plain": [
       "<matplotlib.axes._subplots.AxesSubplot at 0x7f561a6a67d0>"
      ]
     },
     "execution_count": 104,
     "metadata": {},
     "output_type": "execute_result"
    },
    {
     "data": {
      "image/png": "[encoded data removed]",
      "text/plain": [
       "<Figure size 432x288 with 1 Axes>"
      ]
     },
     "metadata": {
      "needs_background": "light"
     },
     "output_type": "display_data"
    }
   ],
   "source": [
    "#most active users \n",
    "user_counts = df.groupby('userID')['hours_played'].agg(np.sum).sort_values(ascending=False)[0:10]\n",
    "mask = df['userID'].isin(user_counts.index)\n",
    "user_info = df.loc[mask].loc[df['action'] == 'play']\n",
    "hours_played = user_info.groupby('game')['hours_played'].agg(np.sum).sort_values(ascending=False)\n",
    "hours_played = pd.DataFrame({'game': hours_played.index, 'hours_played': hours_played.values})[0:10]\n",
    "\n",
    "sns.barplot(y = 'game', x = 'hours_played', data = hours_played)"
   ]
  },
  {
   "cell_type": "markdown",
   "metadata": {},
   "source": [
    "- kmeans clustering"
   ]
  },
  {
   "cell_type": "code",
   "execution_count": 106,
   "metadata": {},
   "outputs": [],
   "source": [
    "purchased_df = df.loc[df['action'] == 'purchase']\n",
    "played_df = df.loc[df['action'] == 'play']"
   ]
  },
  {
   "cell_type": "code",
   "execution_count": 107,
   "metadata": {},
   "outputs": [],
   "source": [
    "user_counts = purchased_df.groupby('userID')['userID'].agg('count').sort_values(ascending=False)\n",
    "hours_played = played_df.groupby('userID')['hours_played'].agg(np.sum).sort_values(ascending=False)"
   ]
  },
  {
   "cell_type": "code",
   "execution_count": 111,
   "metadata": {},
   "outputs": [
    {
     "data": {
      "text/html": [
       "<div>\n",
       "<style scoped>\n",
       "    .dataframe tbody tr th:only-of-type {\n",
       "        vertical-align: middle;\n",
       "    }\n",
       "\n",
       "    .dataframe tbody tr th {\n",
       "        vertical-align: top;\n",
       "    }\n",
       "\n",
       "    .dataframe thead th {\n",
       "        text-align: right;\n",
       "    }\n",
       "</style>\n",
       "<table border=\"1\" class=\"dataframe\">\n",
       "  <thead>\n",
       "    <tr style=\"text-align: right;\">\n",
       "      <th></th>\n",
       "      <th>userID</th>\n",
       "      <th>nb_purchased_games</th>\n",
       "      <th>hours_played</th>\n",
       "    </tr>\n",
       "  </thead>\n",
       "  <tbody>\n",
       "    <tr>\n",
       "      <th>0</th>\n",
       "      <td>62990992</td>\n",
       "      <td>1075</td>\n",
       "      <td>5724.8</td>\n",
       "    </tr>\n",
       "    <tr>\n",
       "      <th>1</th>\n",
       "      <td>33865373</td>\n",
       "      <td>783</td>\n",
       "      <td>2274.4</td>\n",
       "    </tr>\n",
       "    <tr>\n",
       "      <th>2</th>\n",
       "      <td>30246419</td>\n",
       "      <td>766</td>\n",
       "      <td>1219.7</td>\n",
       "    </tr>\n",
       "    <tr>\n",
       "      <th>3</th>\n",
       "      <td>58345543</td>\n",
       "      <td>667</td>\n",
       "      <td>1374.9</td>\n",
       "    </tr>\n",
       "    <tr>\n",
       "      <th>4</th>\n",
       "      <td>76892907</td>\n",
       "      <td>597</td>\n",
       "      <td>2731.3</td>\n",
       "    </tr>\n",
       "  </tbody>\n",
       "</table>\n",
       "</div>"
      ],
      "text/plain": [
       "     userID  nb_purchased_games  hours_played\n",
       "0  62990992                1075        5724.8\n",
       "1  33865373                 783        2274.4\n",
       "2  30246419                 766        1219.7\n",
       "3  58345543                 667        1374.9\n",
       "4  76892907                 597        2731.3"
      ]
     },
     "execution_count": 111,
     "metadata": {},
     "output_type": "execute_result"
    }
   ],
   "source": [
    "user_purchased_df = pd.DataFrame({'userID': user_counts.index, 'nb_purchased_games': user_counts.values})\n",
    "user_played_df = pd.DataFrame({'userID': hours_played.index, 'hours_played': hours_played.values})\n",
    "\n",
    "#merge\n",
    "data = pd.merge(user_purchased_df, user_played_df, on='userID')\n",
    "data.head()"
   ]
  },
  {
   "cell_type": "code",
   "execution_count": 112,
   "metadata": {},
   "outputs": [
    {
     "data": {
      "text/plain": [
       "<seaborn.axisgrid.JointGrid at 0x7f561a1ee5d0>"
      ]
     },
     "execution_count": 112,
     "metadata": {},
     "output_type": "execute_result"
    },
    {
     "data": {
      "image/png": "[encoded data removed]",
      "text/plain": [
       "<Figure size 432x432 with 3 Axes>"
      ]
     },
     "metadata": {
      "needs_background": "light"
     },
     "output_type": "display_data"
    }
   ],
   "source": [
    "sns.jointplot(x='hours_played', \n",
    "              y='nb_purchased_games', \n",
    "              data=data)"
   ]
  },
  {
   "cell_type": "code",
   "execution_count": 114,
   "metadata": {},
   "outputs": [
    {
     "data": {
      "text/plain": [
       "<seaborn.axisgrid.JointGrid at 0x7f5619b3c550>"
      ]
     },
     "execution_count": 114,
     "metadata": {},
     "output_type": "execute_result"
    },
    {
     "data": {
      "image/png": "[encoded data removed]",
      "text/plain": [
       "<Figure size 432x432 with 3 Axes>"
      ]
     },
     "metadata": {
      "needs_background": "light"
     },
     "output_type": "display_data"
    }
   ],
   "source": [
    "#scale data\n",
    "g = sns.jointplot(x='hours_played', \n",
    "              y='nb_purchased_games', \n",
    "              data=data)\n",
    "ax = g.ax_joint\n",
    "ax.set_xscale('log')\n",
    "g.ax_marg_x.set_xscale('log')\n",
    "g"
   ]
  },
  {
   "cell_type": "code",
   "execution_count": 115,
   "metadata": {},
   "outputs": [],
   "source": [
    "user_counts = played_df.groupby('userID')['userID'].agg('count').sort_values(ascending=False)\n",
    "hours_played = played_df.groupby('userID')['hours_played'].agg(np.sum).sort_values(ascending=False)\n",
    "\n",
    "user_played_df = pd.DataFrame({'userID': user_counts.index, 'nb_played_games': user_counts.values})\n",
    "user_hours_played_df = pd.DataFrame({'userID': hours_played.index, 'hours_played': hours_played.values})"
   ]
  },
  {
   "cell_type": "code",
   "execution_count": 117,
   "metadata": {},
   "outputs": [
    {
     "data": {
      "text/html": [
       "<div>\n",
       "<style scoped>\n",
       "    .dataframe tbody tr th:only-of-type {\n",
       "        vertical-align: middle;\n",
       "    }\n",
       "\n",
       "    .dataframe tbody tr th {\n",
       "        vertical-align: top;\n",
       "    }\n",
       "\n",
       "    .dataframe thead th {\n",
       "        text-align: right;\n",
       "    }\n",
       "</style>\n",
       "<table border=\"1\" class=\"dataframe\">\n",
       "  <thead>\n",
       "    <tr style=\"text-align: right;\">\n",
       "      <th></th>\n",
       "      <th>userID</th>\n",
       "      <th>nb_played_games</th>\n",
       "      <th>hours_played</th>\n",
       "    </tr>\n",
       "  </thead>\n",
       "  <tbody>\n",
       "    <tr>\n",
       "      <th>0</th>\n",
       "      <td>62990992</td>\n",
       "      <td>498</td>\n",
       "      <td>5724.8</td>\n",
       "    </tr>\n",
       "    <tr>\n",
       "      <th>1</th>\n",
       "      <td>11403772</td>\n",
       "      <td>314</td>\n",
       "      <td>6009.9</td>\n",
       "    </tr>\n",
       "    <tr>\n",
       "      <th>2</th>\n",
       "      <td>138941587</td>\n",
       "      <td>299</td>\n",
       "      <td>3011.2</td>\n",
       "    </tr>\n",
       "    <tr>\n",
       "      <th>3</th>\n",
       "      <td>47457723</td>\n",
       "      <td>298</td>\n",
       "      <td>4844.3</td>\n",
       "    </tr>\n",
       "    <tr>\n",
       "      <th>4</th>\n",
       "      <td>49893565</td>\n",
       "      <td>297</td>\n",
       "      <td>6891.9</td>\n",
       "    </tr>\n",
       "  </tbody>\n",
       "</table>\n",
       "</div>"
      ],
      "text/plain": [
       "      userID  nb_played_games  hours_played\n",
       "0   62990992              498        5724.8\n",
       "1   11403772              314        6009.9\n",
       "2  138941587              299        3011.2\n",
       "3   47457723              298        4844.3\n",
       "4   49893565              297        6891.9"
      ]
     },
     "execution_count": 117,
     "metadata": {},
     "output_type": "execute_result"
    }
   ],
   "source": [
    "data = pd.merge(user_played_df, user_hours_played_df, on='userID')\n",
    "data.head()"
   ]
  },
  {
   "cell_type": "code",
   "execution_count": 118,
   "metadata": {},
   "outputs": [
    {
     "data": {
      "text/plain": [
       "<seaborn.axisgrid.JointGrid at 0x7f5619756bd0>"
      ]
     },
     "execution_count": 118,
     "metadata": {},
     "output_type": "execute_result"
    },
    {
     "data": {
      "image/png": "[encoded data removed]",
      "text/plain": [
       "<Figure size 432x432 with 3 Axes>"
      ]
     },
     "metadata": {
      "needs_background": "light"
     },
     "output_type": "display_data"
    }
   ],
   "source": [
    "sns.jointplot(x='hours_played', \n",
    "              y='nb_played_games',\n",
    "              data=data )"
   ]
  },
  {
   "cell_type": "code",
   "execution_count": 120,
   "metadata": {},
   "outputs": [
    {
     "data": {
      "text/plain": [
       "<seaborn.axisgrid.JointGrid at 0x7f5619440c50>"
      ]
     },
     "execution_count": 120,
     "metadata": {},
     "output_type": "execute_result"
    },
    {
     "data": {
      "image/png": "[encoded data removed]",
      "text/plain": [
       "<Figure size 432x432 with 3 Axes>"
      ]
     },
     "metadata": {
      "needs_background": "light"
     },
     "output_type": "display_data"
    }
   ],
   "source": [
    "#scale data\n",
    "g = sns.jointplot(x='hours_played', \n",
    "              y='nb_played_games', \n",
    "              data=data)\n",
    "ax = g.ax_joint\n",
    "ax.set_xscale('log')\n",
    "g.ax_marg_x.set_xscale('log')\n",
    "g"
   ]
  },
  {
   "cell_type": "code",
   "execution_count": 163,
   "metadata": {},
   "outputs": [],
   "source": [
    "temp = pd.merge(user_purchased_df, data, on='userID')\n",
    "temp = temp.copy()"
   ]
  },
  {
   "cell_type": "code",
   "execution_count": 164,
   "metadata": {},
   "outputs": [
    {
     "data": {
      "text/html": [
       "<div>\n",
       "<style scoped>\n",
       "    .dataframe tbody tr th:only-of-type {\n",
       "        vertical-align: middle;\n",
       "    }\n",
       "\n",
       "    .dataframe tbody tr th {\n",
       "        vertical-align: top;\n",
       "    }\n",
       "\n",
       "    .dataframe thead th {\n",
       "        text-align: right;\n",
       "    }\n",
       "</style>\n",
       "<table border=\"1\" class=\"dataframe\">\n",
       "  <thead>\n",
       "    <tr style=\"text-align: right;\">\n",
       "      <th></th>\n",
       "      <th>nb_purchased_games</th>\n",
       "      <th>nb_played_games</th>\n",
       "      <th>hours_played</th>\n",
       "    </tr>\n",
       "  </thead>\n",
       "  <tbody>\n",
       "    <tr>\n",
       "      <th>0</th>\n",
       "      <td>1075</td>\n",
       "      <td>498</td>\n",
       "      <td>5724.8</td>\n",
       "    </tr>\n",
       "    <tr>\n",
       "      <th>1</th>\n",
       "      <td>783</td>\n",
       "      <td>166</td>\n",
       "      <td>2274.4</td>\n",
       "    </tr>\n",
       "    <tr>\n",
       "      <th>2</th>\n",
       "      <td>766</td>\n",
       "      <td>135</td>\n",
       "      <td>1219.7</td>\n",
       "    </tr>\n",
       "    <tr>\n",
       "      <th>3</th>\n",
       "      <td>667</td>\n",
       "      <td>166</td>\n",
       "      <td>1374.9</td>\n",
       "    </tr>\n",
       "    <tr>\n",
       "      <th>4</th>\n",
       "      <td>597</td>\n",
       "      <td>98</td>\n",
       "      <td>2731.3</td>\n",
       "    </tr>\n",
       "  </tbody>\n",
       "</table>\n",
       "</div>"
      ],
      "text/plain": [
       "   nb_purchased_games  nb_played_games  hours_played\n",
       "0                1075              498        5724.8\n",
       "1                 783              166        2274.4\n",
       "2                 766              135        1219.7\n",
       "3                 667              166        1374.9\n",
       "4                 597               98        2731.3"
      ]
     },
     "execution_count": 164,
     "metadata": {},
     "output_type": "execute_result"
    }
   ],
   "source": [
    "temp.drop(['userID'], axis=1, inplace=True)\n",
    "temp.head()"
   ]
  },
  {
   "cell_type": "code",
   "execution_count": 138,
   "metadata": {},
   "outputs": [
    {
     "data": {
      "text/plain": [
       "<matplotlib.axes._subplots.AxesSubplot at 0x7f5622d932d0>"
      ]
     },
     "execution_count": 138,
     "metadata": {},
     "output_type": "execute_result"
    },
    {
     "data": {
      "image/png": "[encoded data removed]",
      "text/plain": [
       "<Figure size 432x288 with 2 Axes>"
      ]
     },
     "metadata": {
      "needs_background": "light"
     },
     "output_type": "display_data"
    }
   ],
   "source": [
    "sns.heatmap(temp.corr(),\n",
    "            annot=True,\n",
    "            cmap=cmap)"
   ]
  },
  {
   "cell_type": "markdown",
   "metadata": {},
   "source": [
    "- expected correlation between play and purchase.  Time spent in game does not seem to have strong correlation to either though."
   ]
  },
  {
   "cell_type": "code",
   "execution_count": 199,
   "metadata": {},
   "outputs": [],
   "source": [
    "from sklearn.cluster import KMeans\n",
    "from sklearn.preprocessing import StandardScaler, MinMaxScaler, RobustScaler"
   ]
  },
  {
   "cell_type": "code",
   "execution_count": 216,
   "metadata": {},
   "outputs": [],
   "source": [
    "data.drop(['userID'], axis=1, inplace=True)"
   ]
  },
  {
   "cell_type": "code",
   "execution_count": 223,
   "metadata": {},
   "outputs": [],
   "source": [
    "scaler = StandardScaler()\n",
    "train_data = scaler.fit_transform(data)"
   ]
  },
  {
   "cell_type": "code",
   "execution_count": 224,
   "metadata": {},
   "outputs": [],
   "source": [
    "distortions = []\n",
    "K = range(1,10)\n",
    "for k in K:\n",
    "    km = KMeans(n_clusters= k)\n",
    "    km.fit(data)\n",
    "    distortions.append(km.inertia_)"
   ]
  },
  {
   "cell_type": "code",
   "execution_count": 225,
   "metadata": {},
   "outputs": [
    {
     "data": {
      "image/png": "[encoded data removed]",
      "text/plain": [
       "<Figure size 864x576 with 1 Axes>"
      ]
     },
     "metadata": {
      "needs_background": "light"
     },
     "output_type": "display_data"
    }
   ],
   "source": [
    "#Elbow Method\n",
    "plt.figure(figsize=(12,8))\n",
    "plt.plot(K, distortions, 'bx-')\n",
    "plt.xlabel('k')\n",
    "plt.ylabel('Distortion')\n",
    "plt.title('The Elbow Method')\n",
    "plt.show()"
   ]
  },
  {
   "cell_type": "code",
   "execution_count": 226,
   "metadata": {},
   "outputs": [],
   "source": [
    "#fit kmeans\n",
    "km = KMeans(n_clusters= 3)\n",
    "km.fit(data)\n",
    "\n",
    "labels = km.labels_ # 0 to n_clusters-1"
   ]
  },
  {
   "cell_type": "code",
   "execution_count": 196,
   "metadata": {},
   "outputs": [],
   "source": [
    "# Format results as a DataFrame\n",
    "LABEL_COLOR_MAP = {0 : 'red',\n",
    "                   1 : 'blue',\n",
    "                   2 : 'green',\n",
    "                   3 : 'orange',\n",
    "                   \n",
    "                  }\n",
    "\n",
    "label_color = [LABEL_COLOR_MAP[l] for l in labels]"
   ]
  },
  {
   "cell_type": "code",
   "execution_count": 227,
   "metadata": {},
   "outputs": [
    {
     "data": {
      "image/png": "[encoded data removed]",
      "text/plain": [
       "<Figure size 432x288 with 1 Axes>"
      ]
     },
     "metadata": {
      "needs_background": "light"
     },
     "output_type": "display_data"
    }
   ],
   "source": [
    "plt.figure('K-means')\n",
    "plt.scatter(data['hours_played'],\n",
    "            data['nb_played_games'], \n",
    "            c=km.labels_)\n",
    "plt.show()"
   ]
  },
  {
   "cell_type": "code",
   "execution_count": 228,
   "metadata": {},
   "outputs": [
    {
     "data": {
      "text/html": [
       "<div>\n",
       "<style scoped>\n",
       "    .dataframe tbody tr th:only-of-type {\n",
       "        vertical-align: middle;\n",
       "    }\n",
       "\n",
       "    .dataframe tbody tr th {\n",
       "        vertical-align: top;\n",
       "    }\n",
       "\n",
       "    .dataframe thead th {\n",
       "        text-align: right;\n",
       "    }\n",
       "</style>\n",
       "<table border=\"1\" class=\"dataframe\">\n",
       "  <thead>\n",
       "    <tr style=\"text-align: right;\">\n",
       "      <th></th>\n",
       "      <th>nb_played_games</th>\n",
       "      <th>hours_played</th>\n",
       "      <th>k_means</th>\n",
       "    </tr>\n",
       "  </thead>\n",
       "  <tbody>\n",
       "    <tr>\n",
       "      <th>0</th>\n",
       "      <td>498</td>\n",
       "      <td>5724.8</td>\n",
       "      <td>3</td>\n",
       "    </tr>\n",
       "    <tr>\n",
       "      <th>1</th>\n",
       "      <td>314</td>\n",
       "      <td>6009.9</td>\n",
       "      <td>3</td>\n",
       "    </tr>\n",
       "    <tr>\n",
       "      <th>2</th>\n",
       "      <td>299</td>\n",
       "      <td>3011.2</td>\n",
       "      <td>1</td>\n",
       "    </tr>\n",
       "    <tr>\n",
       "      <th>3</th>\n",
       "      <td>298</td>\n",
       "      <td>4844.3</td>\n",
       "      <td>3</td>\n",
       "    </tr>\n",
       "    <tr>\n",
       "      <th>4</th>\n",
       "      <td>297</td>\n",
       "      <td>6891.9</td>\n",
       "      <td>3</td>\n",
       "    </tr>\n",
       "  </tbody>\n",
       "</table>\n",
       "</div>"
      ],
      "text/plain": [
       "   nb_played_games  hours_played  k_means\n",
       "0              498        5724.8        3\n",
       "1              314        6009.9        3\n",
       "2              299        3011.2        1\n",
       "3              298        4844.3        3\n",
       "4              297        6891.9        3"
      ]
     },
     "execution_count": 228,
     "metadata": {},
     "output_type": "execute_result"
    }
   ],
   "source": [
    "data.head()"
   ]
  },
  {
   "cell_type": "markdown",
   "metadata": {},
   "source": [
    "### Market Analysis"
   ]
  },
  {
   "cell_type": "code",
   "execution_count": 229,
   "metadata": {},
   "outputs": [],
   "source": [
    "#df has no missing values so get right into it\n",
    "\n",
    "df.drop(['userID', 'other'], axis=1, inplace=True)"
   ]
  },
  {
   "cell_type": "code",
   "execution_count": 230,
   "metadata": {},
   "outputs": [],
   "source": [
    "df = df[df['action'] == 'play'] #take only games with play hours logged\n",
    "df.drop(['action'], axis=1, inplace=True)"
   ]
  },
  {
   "cell_type": "code",
   "execution_count": 231,
   "metadata": {},
   "outputs": [],
   "source": [
    "#cumulative hours_played for each game\n",
    "\n",
    "df = df.groupby('game').sum().reset_index()\n",
    "df = df.sort_values('hours_played', ascending = False).reset_index(drop=True)"
   ]
  },
  {
   "cell_type": "code",
   "execution_count": 232,
   "metadata": {},
   "outputs": [
    {
     "data": {
      "text/html": [
       "<div>\n",
       "<style scoped>\n",
       "    .dataframe tbody tr th:only-of-type {\n",
       "        vertical-align: middle;\n",
       "    }\n",
       "\n",
       "    .dataframe tbody tr th {\n",
       "        vertical-align: top;\n",
       "    }\n",
       "\n",
       "    .dataframe thead th {\n",
       "        text-align: right;\n",
       "    }\n",
       "</style>\n",
       "<table border=\"1\" class=\"dataframe\">\n",
       "  <thead>\n",
       "    <tr style=\"text-align: right;\">\n",
       "      <th></th>\n",
       "      <th>game</th>\n",
       "      <th>hours_played</th>\n",
       "    </tr>\n",
       "  </thead>\n",
       "  <tbody>\n",
       "    <tr>\n",
       "      <th>0</th>\n",
       "      <td>Dota 2</td>\n",
       "      <td>981684.6</td>\n",
       "    </tr>\n",
       "    <tr>\n",
       "      <th>1</th>\n",
       "      <td>Counter-Strike Global Offensive</td>\n",
       "      <td>322771.6</td>\n",
       "    </tr>\n",
       "    <tr>\n",
       "      <th>2</th>\n",
       "      <td>Team Fortress 2</td>\n",
       "      <td>173673.3</td>\n",
       "    </tr>\n",
       "    <tr>\n",
       "      <th>3</th>\n",
       "      <td>Counter-Strike</td>\n",
       "      <td>134261.1</td>\n",
       "    </tr>\n",
       "    <tr>\n",
       "      <th>4</th>\n",
       "      <td>Sid Meier's Civilization V</td>\n",
       "      <td>99821.3</td>\n",
       "    </tr>\n",
       "  </tbody>\n",
       "</table>\n",
       "</div>"
      ],
      "text/plain": [
       "                              game  hours_played\n",
       "0                           Dota 2      981684.6\n",
       "1  Counter-Strike Global Offensive      322771.6\n",
       "2                  Team Fortress 2      173673.3\n",
       "3                   Counter-Strike      134261.1\n",
       "4       Sid Meier's Civilization V       99821.3"
      ]
     },
     "execution_count": 232,
     "metadata": {},
     "output_type": "execute_result"
    }
   ],
   "source": [
    "df.head()"
   ]
  },
  {
   "cell_type": "code",
   "execution_count": 245,
   "metadata": {},
   "outputs": [],
   "source": [
    "#dropping irrelevant columns. Steam = PC only\n",
    "\n",
    "ratings = ratings[ratings['platform'] == 'PC']\n",
    "ratings.drop(['platform'], axis=1, inplace=True)"
   ]
  },
  {
   "cell_type": "code",
   "execution_count": 246,
   "metadata": {},
   "outputs": [],
   "source": [
    "ratings.drop(['developer', 'number_players', 'rating', 'release_date'], axis=1, inplace=True)"
   ]
  },
  {
   "cell_type": "code",
   "execution_count": 247,
   "metadata": {},
   "outputs": [
    {
     "data": {
      "text/html": [
       "<div>\n",
       "<style scoped>\n",
       "    .dataframe tbody tr th:only-of-type {\n",
       "        vertical-align: middle;\n",
       "    }\n",
       "\n",
       "    .dataframe tbody tr th {\n",
       "        vertical-align: top;\n",
       "    }\n",
       "\n",
       "    .dataframe thead th {\n",
       "        text-align: right;\n",
       "    }\n",
       "</style>\n",
       "<table border=\"1\" class=\"dataframe\">\n",
       "  <thead>\n",
       "    <tr style=\"text-align: right;\">\n",
       "      <th></th>\n",
       "      <th>game</th>\n",
       "      <th>genre</th>\n",
       "      <th>positive_critics</th>\n",
       "      <th>neutral_critics</th>\n",
       "      <th>negative_critics</th>\n",
       "      <th>positive_users</th>\n",
       "      <th>neutral_users</th>\n",
       "      <th>negative_users</th>\n",
       "      <th>metascore</th>\n",
       "      <th>user_score</th>\n",
       "    </tr>\n",
       "  </thead>\n",
       "  <tbody>\n",
       "    <tr>\n",
       "      <th>0</th>\n",
       "      <td>Portal 2</td>\n",
       "      <td>Action</td>\n",
       "      <td>51</td>\n",
       "      <td>1</td>\n",
       "      <td>0</td>\n",
       "      <td>1700</td>\n",
       "      <td>107</td>\n",
       "      <td>19</td>\n",
       "      <td>95</td>\n",
       "      <td>90</td>\n",
       "    </tr>\n",
       "    <tr>\n",
       "      <th>1</th>\n",
       "      <td>The Elder Scrolls V: Skyrim</td>\n",
       "      <td>Role-Playing</td>\n",
       "      <td>32</td>\n",
       "      <td>0</td>\n",
       "      <td>0</td>\n",
       "      <td>1616</td>\n",
       "      <td>322</td>\n",
       "      <td>451</td>\n",
       "      <td>94</td>\n",
       "      <td>82</td>\n",
       "    </tr>\n",
       "    <tr>\n",
       "      <th>3</th>\n",
       "      <td>Batman: Arkham City</td>\n",
       "      <td>Action Adventure</td>\n",
       "      <td>27</td>\n",
       "      <td>0</td>\n",
       "      <td>0</td>\n",
       "      <td>240</td>\n",
       "      <td>34</td>\n",
       "      <td>27</td>\n",
       "      <td>91</td>\n",
       "      <td>87</td>\n",
       "    </tr>\n",
       "    <tr>\n",
       "      <th>5</th>\n",
       "      <td>Deus Ex: Human Revolution</td>\n",
       "      <td>Action</td>\n",
       "      <td>52</td>\n",
       "      <td>0</td>\n",
       "      <td>0</td>\n",
       "      <td>520</td>\n",
       "      <td>112</td>\n",
       "      <td>78</td>\n",
       "      <td>90</td>\n",
       "      <td>85</td>\n",
       "    </tr>\n",
       "    <tr>\n",
       "      <th>7</th>\n",
       "      <td>Total War: Shogun 2</td>\n",
       "      <td>Strategy</td>\n",
       "      <td>62</td>\n",
       "      <td>0</td>\n",
       "      <td>0</td>\n",
       "      <td>187</td>\n",
       "      <td>44</td>\n",
       "      <td>29</td>\n",
       "      <td>90</td>\n",
       "      <td>84</td>\n",
       "    </tr>\n",
       "  </tbody>\n",
       "</table>\n",
       "</div>"
      ],
      "text/plain": [
       "                          game             genre  positive_critics  \\\n",
       "0                     Portal 2            Action                51   \n",
       "1  The Elder Scrolls V: Skyrim      Role-Playing                32   \n",
       "3          Batman: Arkham City  Action Adventure                27   \n",
       "5    Deus Ex: Human Revolution            Action                52   \n",
       "7          Total War: Shogun 2          Strategy                62   \n",
       "\n",
       "   neutral_critics  negative_critics  positive_users  neutral_users  \\\n",
       "0                1                 0            1700            107   \n",
       "1                0                 0            1616            322   \n",
       "3                0                 0             240             34   \n",
       "5                0                 0             520            112   \n",
       "7                0                 0             187             44   \n",
       "\n",
       "   negative_users  metascore  user_score  \n",
       "0              19         95          90  \n",
       "1             451         94          82  \n",
       "3              27         91          87  \n",
       "5              78         90          85  \n",
       "7              29         90          84  "
      ]
     },
     "execution_count": 247,
     "metadata": {},
     "output_type": "execute_result"
    }
   ],
   "source": [
    "ratings.head()"
   ]
  },
  {
   "cell_type": "code",
   "execution_count": 252,
   "metadata": {},
   "outputs": [
    {
     "data": {
      "text/html": [
       "<div>\n",
       "<style scoped>\n",
       "    .dataframe tbody tr th:only-of-type {\n",
       "        vertical-align: middle;\n",
       "    }\n",
       "\n",
       "    .dataframe tbody tr th {\n",
       "        vertical-align: top;\n",
       "    }\n",
       "\n",
       "    .dataframe thead th {\n",
       "        text-align: right;\n",
       "    }\n",
       "</style>\n",
       "<table border=\"1\" class=\"dataframe\">\n",
       "  <thead>\n",
       "    <tr style=\"text-align: right;\">\n",
       "      <th></th>\n",
       "      <th>Total</th>\n",
       "      <th>Percent</th>\n",
       "    </tr>\n",
       "  </thead>\n",
       "  <tbody>\n",
       "    <tr>\n",
       "      <th>user_score</th>\n",
       "      <td>0</td>\n",
       "      <td>0.0</td>\n",
       "    </tr>\n",
       "    <tr>\n",
       "      <th>metascore</th>\n",
       "      <td>0</td>\n",
       "      <td>0.0</td>\n",
       "    </tr>\n",
       "    <tr>\n",
       "      <th>negative_users</th>\n",
       "      <td>0</td>\n",
       "      <td>0.0</td>\n",
       "    </tr>\n",
       "    <tr>\n",
       "      <th>neutral_users</th>\n",
       "      <td>0</td>\n",
       "      <td>0.0</td>\n",
       "    </tr>\n",
       "    <tr>\n",
       "      <th>positive_users</th>\n",
       "      <td>0</td>\n",
       "      <td>0.0</td>\n",
       "    </tr>\n",
       "  </tbody>\n",
       "</table>\n",
       "</div>"
      ],
      "text/plain": [
       "                Total  Percent\n",
       "user_score          0      0.0\n",
       "metascore           0      0.0\n",
       "negative_users      0      0.0\n",
       "neutral_users       0      0.0\n",
       "positive_users      0      0.0"
      ]
     },
     "execution_count": 252,
     "metadata": {},
     "output_type": "execute_result"
    }
   ],
   "source": [
    "#check for missing values in ratings\n",
    "total = ratings.isnull().sum().sort_values(ascending=False)\n",
    "percent = (ratings.isnull().sum()/ratings.isnull().count()).sort_values(ascending=False)\n",
    "missing_data = pd.concat([total, percent], axis=1, keys=['Total', 'Percent'])\n",
    "missing_data.head()"
   ]
  },
  {
   "cell_type": "code",
   "execution_count": 251,
   "metadata": {},
   "outputs": [],
   "source": [
    "ratings.dropna(inplace=True)"
   ]
  },
  {
   "cell_type": "code",
   "execution_count": 253,
   "metadata": {},
   "outputs": [],
   "source": [
    "#aggregate scores and binning\n",
    "\n",
    "ratings['neutral_critics'] = ratings['neutral_critics']*0.5\n",
    "ratings['negative_critics'] = ratings['negative_critics']*(-1)\n",
    "ratings['neutral_users'] = ratings['neutral_users']*0.5\n",
    "ratings['negative_users'] = ratings['negative_users']*(-1)\n",
    "ratings['score'] = ratings['positive_critics'] + ratings['neutral_critics'] + ratings['negative_critics'] + ratings['neutral_users'] + ratings['negative_users'] + ratings['positive_users']"
   ]
  },
  {
   "cell_type": "code",
   "execution_count": 254,
   "metadata": {},
   "outputs": [
    {
     "data": {
      "text/html": [
       "<div>\n",
       "<style scoped>\n",
       "    .dataframe tbody tr th:only-of-type {\n",
       "        vertical-align: middle;\n",
       "    }\n",
       "\n",
       "    .dataframe tbody tr th {\n",
       "        vertical-align: top;\n",
       "    }\n",
       "\n",
       "    .dataframe thead th {\n",
       "        text-align: right;\n",
       "    }\n",
       "</style>\n",
       "<table border=\"1\" class=\"dataframe\">\n",
       "  <thead>\n",
       "    <tr style=\"text-align: right;\">\n",
       "      <th></th>\n",
       "      <th>game</th>\n",
       "      <th>genre</th>\n",
       "      <th>metascore</th>\n",
       "      <th>user_score</th>\n",
       "      <th>score</th>\n",
       "    </tr>\n",
       "  </thead>\n",
       "  <tbody>\n",
       "    <tr>\n",
       "      <th>0</th>\n",
       "      <td>Portal 2</td>\n",
       "      <td>Action</td>\n",
       "      <td>95</td>\n",
       "      <td>90</td>\n",
       "      <td>1786.0</td>\n",
       "    </tr>\n",
       "    <tr>\n",
       "      <th>1</th>\n",
       "      <td>The Elder Scrolls V: Skyrim</td>\n",
       "      <td>Role-Playing</td>\n",
       "      <td>94</td>\n",
       "      <td>82</td>\n",
       "      <td>1358.0</td>\n",
       "    </tr>\n",
       "    <tr>\n",
       "      <th>2</th>\n",
       "      <td>The Witcher 3: Wild Hunt</td>\n",
       "      <td>Action RPG</td>\n",
       "      <td>93</td>\n",
       "      <td>94</td>\n",
       "      <td>1277.0</td>\n",
       "    </tr>\n",
       "    <tr>\n",
       "      <th>3</th>\n",
       "      <td>The Witcher 2: Assassins of Kings</td>\n",
       "      <td>Role-Playing</td>\n",
       "      <td>88</td>\n",
       "      <td>85</td>\n",
       "      <td>1214.5</td>\n",
       "    </tr>\n",
       "    <tr>\n",
       "      <th>4</th>\n",
       "      <td>BioShock Infinite</td>\n",
       "      <td>Action</td>\n",
       "      <td>94</td>\n",
       "      <td>86</td>\n",
       "      <td>1174.5</td>\n",
       "    </tr>\n",
       "  </tbody>\n",
       "</table>\n",
       "</div>"
      ],
      "text/plain": [
       "                                game         genre  metascore  user_score  \\\n",
       "0                           Portal 2        Action         95          90   \n",
       "1        The Elder Scrolls V: Skyrim  Role-Playing         94          82   \n",
       "2           The Witcher 3: Wild Hunt    Action RPG         93          94   \n",
       "3  The Witcher 2: Assassins of Kings  Role-Playing         88          85   \n",
       "4                  BioShock Infinite        Action         94          86   \n",
       "\n",
       "    score  \n",
       "0  1786.0  \n",
       "1  1358.0  \n",
       "2  1277.0  \n",
       "3  1214.5  \n",
       "4  1174.5  "
      ]
     },
     "execution_count": 254,
     "metadata": {},
     "output_type": "execute_result"
    }
   ],
   "source": [
    "ratings = ratings[['game', 'genre', 'metascore', 'user_score', 'score']]\n",
    "ratings = ratings.sort_values('score',ascending=False).reset_index(drop=True)\n",
    "\n",
    "ratings.head()"
   ]
  },
  {
   "cell_type": "code",
   "execution_count": 255,
   "metadata": {},
   "outputs": [
    {
     "data": {
      "text/html": [
       "<div>\n",
       "<style scoped>\n",
       "    .dataframe tbody tr th:only-of-type {\n",
       "        vertical-align: middle;\n",
       "    }\n",
       "\n",
       "    .dataframe tbody tr th {\n",
       "        vertical-align: top;\n",
       "    }\n",
       "\n",
       "    .dataframe thead th {\n",
       "        text-align: right;\n",
       "    }\n",
       "</style>\n",
       "<table border=\"1\" class=\"dataframe\">\n",
       "  <thead>\n",
       "    <tr style=\"text-align: right;\">\n",
       "      <th></th>\n",
       "      <th>game</th>\n",
       "      <th>hours_played</th>\n",
       "      <th>genre</th>\n",
       "      <th>metascore</th>\n",
       "      <th>user_score</th>\n",
       "      <th>score</th>\n",
       "    </tr>\n",
       "  </thead>\n",
       "  <tbody>\n",
       "    <tr>\n",
       "      <th>0</th>\n",
       "      <td>Dota 2</td>\n",
       "      <td>981684.6</td>\n",
       "      <td>General</td>\n",
       "      <td>90</td>\n",
       "      <td>65</td>\n",
       "      <td>201.5</td>\n",
       "    </tr>\n",
       "    <tr>\n",
       "      <th>1</th>\n",
       "      <td>Football Manager 2013</td>\n",
       "      <td>32308.6</td>\n",
       "      <td>Sports</td>\n",
       "      <td>86</td>\n",
       "      <td>68</td>\n",
       "      <td>41.0</td>\n",
       "    </tr>\n",
       "    <tr>\n",
       "      <th>2</th>\n",
       "      <td>Football Manager 2012</td>\n",
       "      <td>30845.8</td>\n",
       "      <td>Sports</td>\n",
       "      <td>84</td>\n",
       "      <td>79</td>\n",
       "      <td>64.5</td>\n",
       "    </tr>\n",
       "    <tr>\n",
       "      <th>3</th>\n",
       "      <td>Football Manager 2014</td>\n",
       "      <td>30574.8</td>\n",
       "      <td>Sports</td>\n",
       "      <td>85</td>\n",
       "      <td>56</td>\n",
       "      <td>7.5</td>\n",
       "    </tr>\n",
       "    <tr>\n",
       "      <th>4</th>\n",
       "      <td>Terraria</td>\n",
       "      <td>29951.8</td>\n",
       "      <td>Action</td>\n",
       "      <td>83</td>\n",
       "      <td>86</td>\n",
       "      <td>522.5</td>\n",
       "    </tr>\n",
       "  </tbody>\n",
       "</table>\n",
       "</div>"
      ],
      "text/plain": [
       "                    game  hours_played    genre  metascore  user_score  score\n",
       "0                 Dota 2      981684.6  General         90          65  201.5\n",
       "1  Football Manager 2013       32308.6   Sports         86          68   41.0\n",
       "2  Football Manager 2012       30845.8   Sports         84          79   64.5\n",
       "3  Football Manager 2014       30574.8   Sports         85          56    7.5\n",
       "4               Terraria       29951.8   Action         83          86  522.5"
      ]
     },
     "execution_count": 255,
     "metadata": {},
     "output_type": "execute_result"
    }
   ],
   "source": [
    "#merge\n",
    "final = pd.merge(df, ratings, how='inner', left_on='game', right_on='game')\n",
    "final.head()"
   ]
  },
  {
   "cell_type": "markdown",
   "metadata": {},
   "source": [
    "- can look at popularity by both time spent playing game and ratings"
   ]
  },
  {
   "cell_type": "code",
   "execution_count": 256,
   "metadata": {},
   "outputs": [],
   "source": [
    "by_time = final.sort_values('hours_played',ascending=False) #sort by most time played\n",
    "by_rt = final.sort_values('score', ascending=False) #sort by highest agg score"
   ]
  },
  {
   "cell_type": "code",
   "execution_count": 257,
   "metadata": {},
   "outputs": [
    {
     "data": {
      "text/html": [
       "<div>\n",
       "<style scoped>\n",
       "    .dataframe tbody tr th:only-of-type {\n",
       "        vertical-align: middle;\n",
       "    }\n",
       "\n",
       "    .dataframe tbody tr th {\n",
       "        vertical-align: top;\n",
       "    }\n",
       "\n",
       "    .dataframe thead th {\n",
       "        text-align: right;\n",
       "    }\n",
       "</style>\n",
       "<table border=\"1\" class=\"dataframe\">\n",
       "  <thead>\n",
       "    <tr style=\"text-align: right;\">\n",
       "      <th></th>\n",
       "      <th>game</th>\n",
       "      <th>hours_played</th>\n",
       "      <th>genre</th>\n",
       "      <th>metascore</th>\n",
       "      <th>user_score</th>\n",
       "      <th>score</th>\n",
       "    </tr>\n",
       "  </thead>\n",
       "  <tbody>\n",
       "    <tr>\n",
       "      <th>0</th>\n",
       "      <td>Dota 2</td>\n",
       "      <td>981684.6</td>\n",
       "      <td>General</td>\n",
       "      <td>90</td>\n",
       "      <td>65</td>\n",
       "      <td>201.5</td>\n",
       "    </tr>\n",
       "    <tr>\n",
       "      <th>1</th>\n",
       "      <td>Football Manager 2013</td>\n",
       "      <td>32308.6</td>\n",
       "      <td>Sports</td>\n",
       "      <td>86</td>\n",
       "      <td>68</td>\n",
       "      <td>41.0</td>\n",
       "    </tr>\n",
       "    <tr>\n",
       "      <th>2</th>\n",
       "      <td>Football Manager 2012</td>\n",
       "      <td>30845.8</td>\n",
       "      <td>Sports</td>\n",
       "      <td>84</td>\n",
       "      <td>79</td>\n",
       "      <td>64.5</td>\n",
       "    </tr>\n",
       "    <tr>\n",
       "      <th>3</th>\n",
       "      <td>Football Manager 2014</td>\n",
       "      <td>30574.8</td>\n",
       "      <td>Sports</td>\n",
       "      <td>85</td>\n",
       "      <td>56</td>\n",
       "      <td>7.5</td>\n",
       "    </tr>\n",
       "    <tr>\n",
       "      <th>4</th>\n",
       "      <td>Terraria</td>\n",
       "      <td>29951.8</td>\n",
       "      <td>Action</td>\n",
       "      <td>83</td>\n",
       "      <td>86</td>\n",
       "      <td>522.5</td>\n",
       "    </tr>\n",
       "    <tr>\n",
       "      <th>...</th>\n",
       "      <td>...</td>\n",
       "      <td>...</td>\n",
       "      <td>...</td>\n",
       "      <td>...</td>\n",
       "      <td>...</td>\n",
       "      <td>...</td>\n",
       "    </tr>\n",
       "    <tr>\n",
       "      <th>538</th>\n",
       "      <td>Who's That Flying?!</td>\n",
       "      <td>0.2</td>\n",
       "      <td>Action</td>\n",
       "      <td>76</td>\n",
       "      <td>67</td>\n",
       "      <td>7.5</td>\n",
       "    </tr>\n",
       "    <tr>\n",
       "      <th>539</th>\n",
       "      <td>Gateways</td>\n",
       "      <td>0.2</td>\n",
       "      <td>Action</td>\n",
       "      <td>72</td>\n",
       "      <td>77</td>\n",
       "      <td>7.0</td>\n",
       "    </tr>\n",
       "    <tr>\n",
       "      <th>540</th>\n",
       "      <td>Formula Fusion</td>\n",
       "      <td>0.1</td>\n",
       "      <td>Racing</td>\n",
       "      <td>58</td>\n",
       "      <td>75</td>\n",
       "      <td>8.0</td>\n",
       "    </tr>\n",
       "    <tr>\n",
       "      <th>541</th>\n",
       "      <td>BlazeRush</td>\n",
       "      <td>0.1</td>\n",
       "      <td>Driving</td>\n",
       "      <td>66</td>\n",
       "      <td>82</td>\n",
       "      <td>10.0</td>\n",
       "    </tr>\n",
       "    <tr>\n",
       "      <th>542</th>\n",
       "      <td>Unity of Command</td>\n",
       "      <td>0.1</td>\n",
       "      <td>Strategy</td>\n",
       "      <td>84</td>\n",
       "      <td>71</td>\n",
       "      <td>18.0</td>\n",
       "    </tr>\n",
       "  </tbody>\n",
       "</table>\n",
       "<p>543 rows × 6 columns</p>\n",
       "</div>"
      ],
      "text/plain": [
       "                      game  hours_played     genre  metascore  user_score  \\\n",
       "0                   Dota 2      981684.6   General         90          65   \n",
       "1    Football Manager 2013       32308.6    Sports         86          68   \n",
       "2    Football Manager 2012       30845.8    Sports         84          79   \n",
       "3    Football Manager 2014       30574.8    Sports         85          56   \n",
       "4                 Terraria       29951.8    Action         83          86   \n",
       "..                     ...           ...       ...        ...         ...   \n",
       "538    Who's That Flying?!           0.2    Action         76          67   \n",
       "539               Gateways           0.2    Action         72          77   \n",
       "540         Formula Fusion           0.1    Racing         58          75   \n",
       "541              BlazeRush           0.1   Driving         66          82   \n",
       "542       Unity of Command           0.1  Strategy         84          71   \n",
       "\n",
       "     score  \n",
       "0    201.5  \n",
       "1     41.0  \n",
       "2     64.5  \n",
       "3      7.5  \n",
       "4    522.5  \n",
       "..     ...  \n",
       "538    7.5  \n",
       "539    7.0  \n",
       "540    8.0  \n",
       "541   10.0  \n",
       "542   18.0  \n",
       "\n",
       "[543 rows x 6 columns]"
      ]
     },
     "execution_count": 257,
     "metadata": {},
     "output_type": "execute_result"
    }
   ],
   "source": [
    "by_time"
   ]
  },
  {
   "cell_type": "code",
   "execution_count": 258,
   "metadata": {},
   "outputs": [
    {
     "data": {
      "text/html": [
       "<div>\n",
       "<style scoped>\n",
       "    .dataframe tbody tr th:only-of-type {\n",
       "        vertical-align: middle;\n",
       "    }\n",
       "\n",
       "    .dataframe tbody tr th {\n",
       "        vertical-align: top;\n",
       "    }\n",
       "\n",
       "    .dataframe thead th {\n",
       "        text-align: right;\n",
       "    }\n",
       "</style>\n",
       "<table border=\"1\" class=\"dataframe\">\n",
       "  <thead>\n",
       "    <tr style=\"text-align: right;\">\n",
       "      <th></th>\n",
       "      <th>game</th>\n",
       "      <th>hours_played</th>\n",
       "      <th>genre</th>\n",
       "      <th>metascore</th>\n",
       "      <th>user_score</th>\n",
       "      <th>score</th>\n",
       "    </tr>\n",
       "  </thead>\n",
       "  <tbody>\n",
       "    <tr>\n",
       "      <th>15</th>\n",
       "      <td>Portal 2</td>\n",
       "      <td>9117.1</td>\n",
       "      <td>Action</td>\n",
       "      <td>95</td>\n",
       "      <td>90</td>\n",
       "      <td>1786.0</td>\n",
       "    </tr>\n",
       "    <tr>\n",
       "      <th>28</th>\n",
       "      <td>BioShock Infinite</td>\n",
       "      <td>3689.1</td>\n",
       "      <td>Action</td>\n",
       "      <td>94</td>\n",
       "      <td>86</td>\n",
       "      <td>1174.5</td>\n",
       "    </tr>\n",
       "    <tr>\n",
       "      <th>118</th>\n",
       "      <td>Undertale</td>\n",
       "      <td>444.6</td>\n",
       "      <td>Role-Playing</td>\n",
       "      <td>92</td>\n",
       "      <td>83</td>\n",
       "      <td>786.0</td>\n",
       "    </tr>\n",
       "    <tr>\n",
       "      <th>32</th>\n",
       "      <td>Tomb Raider</td>\n",
       "      <td>3184.3</td>\n",
       "      <td>Action Adventure</td>\n",
       "      <td>86</td>\n",
       "      <td>85</td>\n",
       "      <td>563.0</td>\n",
       "    </tr>\n",
       "    <tr>\n",
       "      <th>4</th>\n",
       "      <td>Terraria</td>\n",
       "      <td>29951.8</td>\n",
       "      <td>Action</td>\n",
       "      <td>83</td>\n",
       "      <td>86</td>\n",
       "      <td>522.5</td>\n",
       "    </tr>\n",
       "    <tr>\n",
       "      <th>...</th>\n",
       "      <td>...</td>\n",
       "      <td>...</td>\n",
       "      <td>...</td>\n",
       "      <td>...</td>\n",
       "      <td>...</td>\n",
       "      <td>...</td>\n",
       "    </tr>\n",
       "    <tr>\n",
       "      <th>70</th>\n",
       "      <td>ArcheAge</td>\n",
       "      <td>1109.7</td>\n",
       "      <td>Role-Playing</td>\n",
       "      <td>80</td>\n",
       "      <td>37</td>\n",
       "      <td>-164.0</td>\n",
       "    </tr>\n",
       "    <tr>\n",
       "      <th>12</th>\n",
       "      <td>Fallout 4</td>\n",
       "      <td>10762.8</td>\n",
       "      <td>General</td>\n",
       "      <td>84</td>\n",
       "      <td>55</td>\n",
       "      <td>-215.5</td>\n",
       "    </tr>\n",
       "    <tr>\n",
       "      <th>148</th>\n",
       "      <td>X Rebirth</td>\n",
       "      <td>280.0</td>\n",
       "      <td>Simulation</td>\n",
       "      <td>33</td>\n",
       "      <td>32</td>\n",
       "      <td>-365.0</td>\n",
       "    </tr>\n",
       "    <tr>\n",
       "      <th>133</th>\n",
       "      <td>Dragon Age II</td>\n",
       "      <td>372.8</td>\n",
       "      <td>Role-Playing</td>\n",
       "      <td>82</td>\n",
       "      <td>45</td>\n",
       "      <td>-466.0</td>\n",
       "    </tr>\n",
       "    <tr>\n",
       "      <th>50</th>\n",
       "      <td>Company of Heroes 2</td>\n",
       "      <td>1955.0</td>\n",
       "      <td>Strategy</td>\n",
       "      <td>80</td>\n",
       "      <td>21</td>\n",
       "      <td>-699.0</td>\n",
       "    </tr>\n",
       "  </tbody>\n",
       "</table>\n",
       "<p>543 rows × 6 columns</p>\n",
       "</div>"
      ],
      "text/plain": [
       "                    game  hours_played             genre  metascore  \\\n",
       "15              Portal 2        9117.1            Action         95   \n",
       "28     BioShock Infinite        3689.1            Action         94   \n",
       "118            Undertale         444.6      Role-Playing         92   \n",
       "32           Tomb Raider        3184.3  Action Adventure         86   \n",
       "4               Terraria       29951.8            Action         83   \n",
       "..                   ...           ...               ...        ...   \n",
       "70              ArcheAge        1109.7      Role-Playing         80   \n",
       "12             Fallout 4       10762.8           General         84   \n",
       "148            X Rebirth         280.0        Simulation         33   \n",
       "133        Dragon Age II         372.8      Role-Playing         82   \n",
       "50   Company of Heroes 2        1955.0          Strategy         80   \n",
       "\n",
       "     user_score   score  \n",
       "15           90  1786.0  \n",
       "28           86  1174.5  \n",
       "118          83   786.0  \n",
       "32           85   563.0  \n",
       "4            86   522.5  \n",
       "..          ...     ...  \n",
       "70           37  -164.0  \n",
       "12           55  -215.5  \n",
       "148          32  -365.0  \n",
       "133          45  -466.0  \n",
       "50           21  -699.0  \n",
       "\n",
       "[543 rows x 6 columns]"
      ]
     },
     "execution_count": 258,
     "metadata": {},
     "output_type": "execute_result"
    }
   ],
   "source": [
    "by_rt"
   ]
  },
  {
   "cell_type": "code",
   "execution_count": 259,
   "metadata": {},
   "outputs": [
    {
     "data": {
      "text/plain": [
       "<matplotlib.axes._subplots.AxesSubplot at 0x7f560093f5d0>"
      ]
     },
     "execution_count": 259,
     "metadata": {},
     "output_type": "execute_result"
    },
    {
     "data": {
      "image/png": "[encoded data removed]",
      "text/plain": [
       "<Figure size 432x288 with 1 Axes>"
      ]
     },
     "metadata": {
      "needs_background": "light"
     },
     "output_type": "display_data"
    }
   ],
   "source": [
    "top_by_time = by_time[:10]\n",
    "\n",
    "sns.barplot(y = 'game',\n",
    "            x = 'hours_played',\n",
    "            data = top_by_time)"
   ]
  },
  {
   "cell_type": "code",
   "execution_count": 260,
   "metadata": {},
   "outputs": [
    {
     "data": {
      "text/plain": [
       "<matplotlib.axes._subplots.AxesSubplot at 0x7f56008e2110>"
      ]
     },
     "execution_count": 260,
     "metadata": {},
     "output_type": "execute_result"
    },
    {
     "data": {
      "image/png": "[encoded data removed]",
      "text/plain": [
       "<Figure size 432x288 with 1 Axes>"
      ]
     },
     "metadata": {
      "needs_background": "light"
     },
     "output_type": "display_data"
    }
   ],
   "source": [
    "top_by_rt = by_rt[:10]\n",
    "\n",
    "sns.barplot(y = 'game',\n",
    "            x = 'score',\n",
    "            data = top_by_rt)"
   ]
  },
  {
   "cell_type": "markdown",
   "metadata": {},
   "source": [
    "- cursory glance at both tables don't show much correlation between ratings and hours played\n",
    "- let's look at a heatmap to see if that's true"
   ]
  },
  {
   "cell_type": "code",
   "execution_count": 266,
   "metadata": {},
   "outputs": [
    {
     "data": {
      "text/plain": [
       "<matplotlib.axes._subplots.AxesSubplot at 0x7f5600809250>"
      ]
     },
     "execution_count": 266,
     "metadata": {},
     "output_type": "execute_result"
    },
    {
     "data": {
      "image/png": "[encoded data removed]",
      "text/plain": [
       "<Figure size 432x288 with 2 Axes>"
      ]
     },
     "metadata": {
      "needs_background": "light"
     },
     "output_type": "display_data"
    }
   ],
   "source": [
    "corr = final.corr()\n",
    "\n",
    "# color map\n",
    "cmap = sns.diverging_palette(220, 20, as_cmap=True)\n",
    "\n",
    "# ticks\n",
    "yticks = [i.upper() for i in corr.index]\n",
    "xticks = [i.upper() for i in corr.columns]\n",
    "\n",
    "sns.heatmap(corr, \n",
    "            cmap=cmap,\n",
    "            annot = True,\n",
    "            xticklabels=corr.columns,\n",
    "            yticklabels=corr.columns)"
   ]
  },
  {
   "cell_type": "code",
   "execution_count": 276,
   "metadata": {},
   "outputs": [],
   "source": [
    "X = final[['hours_played']].values\n",
    "\n",
    "minmax = MinMaxScaler()\n",
    "x_scaled = minmax.fit_transform(X)\n",
    "\n",
    "final['hours_scaled'] = pd.DataFrame(x_scaled)"
   ]
  },
  {
   "cell_type": "code",
   "execution_count": 278,
   "metadata": {},
   "outputs": [],
   "source": [
    "X = final[['score']].values\n",
    "\n",
    "x_scaled = minmax.fit_transform(X)\n",
    "\n",
    "final['score_scaled'] = pd.DataFrame(x_scaled)"
   ]
  },
  {
   "cell_type": "code",
   "execution_count": 279,
   "metadata": {},
   "outputs": [
    {
     "data": {
      "text/html": [
       "<div>\n",
       "<style scoped>\n",
       "    .dataframe tbody tr th:only-of-type {\n",
       "        vertical-align: middle;\n",
       "    }\n",
       "\n",
       "    .dataframe tbody tr th {\n",
       "        vertical-align: top;\n",
       "    }\n",
       "\n",
       "    .dataframe thead th {\n",
       "        text-align: right;\n",
       "    }\n",
       "</style>\n",
       "<table border=\"1\" class=\"dataframe\">\n",
       "  <thead>\n",
       "    <tr style=\"text-align: right;\">\n",
       "      <th></th>\n",
       "      <th>game</th>\n",
       "      <th>hours_played</th>\n",
       "      <th>genre</th>\n",
       "      <th>metascore</th>\n",
       "      <th>user_score</th>\n",
       "      <th>score</th>\n",
       "      <th>hours_scaled</th>\n",
       "      <th>score_scaled</th>\n",
       "    </tr>\n",
       "  </thead>\n",
       "  <tbody>\n",
       "    <tr>\n",
       "      <th>0</th>\n",
       "      <td>Dota 2</td>\n",
       "      <td>981684.6</td>\n",
       "      <td>General</td>\n",
       "      <td>90</td>\n",
       "      <td>65</td>\n",
       "      <td>201.5</td>\n",
       "      <td>1.000000</td>\n",
       "      <td>0.362374</td>\n",
       "    </tr>\n",
       "    <tr>\n",
       "      <th>1</th>\n",
       "      <td>Football Manager 2013</td>\n",
       "      <td>32308.6</td>\n",
       "      <td>Sports</td>\n",
       "      <td>86</td>\n",
       "      <td>68</td>\n",
       "      <td>41.0</td>\n",
       "      <td>0.032911</td>\n",
       "      <td>0.297787</td>\n",
       "    </tr>\n",
       "    <tr>\n",
       "      <th>2</th>\n",
       "      <td>Football Manager 2012</td>\n",
       "      <td>30845.8</td>\n",
       "      <td>Sports</td>\n",
       "      <td>84</td>\n",
       "      <td>79</td>\n",
       "      <td>64.5</td>\n",
       "      <td>0.031421</td>\n",
       "      <td>0.307243</td>\n",
       "    </tr>\n",
       "    <tr>\n",
       "      <th>3</th>\n",
       "      <td>Football Manager 2014</td>\n",
       "      <td>30574.8</td>\n",
       "      <td>Sports</td>\n",
       "      <td>85</td>\n",
       "      <td>56</td>\n",
       "      <td>7.5</td>\n",
       "      <td>0.031145</td>\n",
       "      <td>0.284306</td>\n",
       "    </tr>\n",
       "    <tr>\n",
       "      <th>4</th>\n",
       "      <td>Terraria</td>\n",
       "      <td>29951.8</td>\n",
       "      <td>Action</td>\n",
       "      <td>83</td>\n",
       "      <td>86</td>\n",
       "      <td>522.5</td>\n",
       "      <td>0.030511</td>\n",
       "      <td>0.491549</td>\n",
       "    </tr>\n",
       "  </tbody>\n",
       "</table>\n",
       "</div>"
      ],
      "text/plain": [
       "                    game  hours_played    genre  metascore  user_score  score  \\\n",
       "0                 Dota 2      981684.6  General         90          65  201.5   \n",
       "1  Football Manager 2013       32308.6   Sports         86          68   41.0   \n",
       "2  Football Manager 2012       30845.8   Sports         84          79   64.5   \n",
       "3  Football Manager 2014       30574.8   Sports         85          56    7.5   \n",
       "4               Terraria       29951.8   Action         83          86  522.5   \n",
       "\n",
       "   hours_scaled  score_scaled  \n",
       "0      1.000000      0.362374  \n",
       "1      0.032911      0.297787  \n",
       "2      0.031421      0.307243  \n",
       "3      0.031145      0.284306  \n",
       "4      0.030511      0.491549  "
      ]
     },
     "execution_count": 279,
     "metadata": {},
     "output_type": "execute_result"
    }
   ],
   "source": [
    "final.head()"
   ]
  },
  {
   "cell_type": "code",
   "execution_count": 293,
   "metadata": {},
   "outputs": [],
   "source": [
    "def normalize(lst):\n",
    "    norm = []\n",
    "    mx = max(lst)\n",
    "    mn = min(lst)\n",
    "    for i in lst:\n",
    "        norm.append( ((i - mn) / (mx - mn)) * 2 )\n",
    "    return norm"
   ]
  },
  {
   "cell_type": "code",
   "execution_count": 294,
   "metadata": {},
   "outputs": [
    {
     "data": {
      "text/html": [
       "<div>\n",
       "<style scoped>\n",
       "    .dataframe tbody tr th:only-of-type {\n",
       "        vertical-align: middle;\n",
       "    }\n",
       "\n",
       "    .dataframe tbody tr th {\n",
       "        vertical-align: top;\n",
       "    }\n",
       "\n",
       "    .dataframe thead th {\n",
       "        text-align: right;\n",
       "    }\n",
       "</style>\n",
       "<table border=\"1\" class=\"dataframe\">\n",
       "  <thead>\n",
       "    <tr style=\"text-align: right;\">\n",
       "      <th></th>\n",
       "      <th>game</th>\n",
       "      <th>hours_played</th>\n",
       "      <th>genre</th>\n",
       "      <th>metascore</th>\n",
       "      <th>user_score</th>\n",
       "      <th>score</th>\n",
       "      <th>hours_scaled</th>\n",
       "      <th>score_scaled</th>\n",
       "    </tr>\n",
       "  </thead>\n",
       "  <tbody>\n",
       "    <tr>\n",
       "      <th>0</th>\n",
       "      <td>Dota 2</td>\n",
       "      <td>981684.6</td>\n",
       "      <td>General</td>\n",
       "      <td>90</td>\n",
       "      <td>65</td>\n",
       "      <td>201.5</td>\n",
       "      <td>2.000000</td>\n",
       "      <td>0.753398</td>\n",
       "    </tr>\n",
       "    <tr>\n",
       "      <th>1</th>\n",
       "      <td>Football Manager 2013</td>\n",
       "      <td>32308.6</td>\n",
       "      <td>Sports</td>\n",
       "      <td>86</td>\n",
       "      <td>68</td>\n",
       "      <td>41.0</td>\n",
       "      <td>0.020105</td>\n",
       "      <td>0.130097</td>\n",
       "    </tr>\n",
       "    <tr>\n",
       "      <th>2</th>\n",
       "      <td>Football Manager 2012</td>\n",
       "      <td>30845.8</td>\n",
       "      <td>Sports</td>\n",
       "      <td>84</td>\n",
       "      <td>79</td>\n",
       "      <td>64.5</td>\n",
       "      <td>0.017055</td>\n",
       "      <td>0.221359</td>\n",
       "    </tr>\n",
       "    <tr>\n",
       "      <th>3</th>\n",
       "      <td>Football Manager 2014</td>\n",
       "      <td>30574.8</td>\n",
       "      <td>Sports</td>\n",
       "      <td>85</td>\n",
       "      <td>56</td>\n",
       "      <td>7.5</td>\n",
       "      <td>0.016490</td>\n",
       "      <td>0.000000</td>\n",
       "    </tr>\n",
       "    <tr>\n",
       "      <th>4</th>\n",
       "      <td>Terraria</td>\n",
       "      <td>29951.8</td>\n",
       "      <td>Action</td>\n",
       "      <td>83</td>\n",
       "      <td>86</td>\n",
       "      <td>522.5</td>\n",
       "      <td>0.015190</td>\n",
       "      <td>2.000000</td>\n",
       "    </tr>\n",
       "    <tr>\n",
       "      <th>5</th>\n",
       "      <td>Warframe</td>\n",
       "      <td>27074.6</td>\n",
       "      <td>Action</td>\n",
       "      <td>71</td>\n",
       "      <td>84</td>\n",
       "      <td>269.0</td>\n",
       "      <td>0.009190</td>\n",
       "      <td>1.015534</td>\n",
       "    </tr>\n",
       "    <tr>\n",
       "      <th>6</th>\n",
       "      <td>Football Manager 2015</td>\n",
       "      <td>24283.1</td>\n",
       "      <td>Sports</td>\n",
       "      <td>80</td>\n",
       "      <td>61</td>\n",
       "      <td>26.5</td>\n",
       "      <td>0.003368</td>\n",
       "      <td>0.073786</td>\n",
       "    </tr>\n",
       "    <tr>\n",
       "      <th>7</th>\n",
       "      <td>Arma 3</td>\n",
       "      <td>24055.7</td>\n",
       "      <td>Simulation</td>\n",
       "      <td>74</td>\n",
       "      <td>75</td>\n",
       "      <td>120.5</td>\n",
       "      <td>0.002894</td>\n",
       "      <td>0.438835</td>\n",
       "    </tr>\n",
       "    <tr>\n",
       "      <th>8</th>\n",
       "      <td>Grand Theft Auto V</td>\n",
       "      <td>22956.7</td>\n",
       "      <td>Modern</td>\n",
       "      <td>96</td>\n",
       "      <td>77</td>\n",
       "      <td>267.5</td>\n",
       "      <td>0.000602</td>\n",
       "      <td>1.009709</td>\n",
       "    </tr>\n",
       "    <tr>\n",
       "      <th>9</th>\n",
       "      <td>Borderlands 2</td>\n",
       "      <td>22667.9</td>\n",
       "      <td>Action</td>\n",
       "      <td>89</td>\n",
       "      <td>82</td>\n",
       "      <td>424.5</td>\n",
       "      <td>0.000000</td>\n",
       "      <td>1.619417</td>\n",
       "    </tr>\n",
       "  </tbody>\n",
       "</table>\n",
       "</div>"
      ],
      "text/plain": [
       "                    game  hours_played       genre  metascore  user_score  \\\n",
       "0                 Dota 2      981684.6     General         90          65   \n",
       "1  Football Manager 2013       32308.6      Sports         86          68   \n",
       "2  Football Manager 2012       30845.8      Sports         84          79   \n",
       "3  Football Manager 2014       30574.8      Sports         85          56   \n",
       "4               Terraria       29951.8      Action         83          86   \n",
       "5               Warframe       27074.6      Action         71          84   \n",
       "6  Football Manager 2015       24283.1      Sports         80          61   \n",
       "7                 Arma 3       24055.7  Simulation         74          75   \n",
       "8     Grand Theft Auto V       22956.7      Modern         96          77   \n",
       "9          Borderlands 2       22667.9      Action         89          82   \n",
       "\n",
       "   score  hours_scaled  score_scaled  \n",
       "0  201.5      2.000000      0.753398  \n",
       "1   41.0      0.020105      0.130097  \n",
       "2   64.5      0.017055      0.221359  \n",
       "3    7.5      0.016490      0.000000  \n",
       "4  522.5      0.015190      2.000000  \n",
       "5  269.0      0.009190      1.015534  \n",
       "6   26.5      0.003368      0.073786  \n",
       "7  120.5      0.002894      0.438835  \n",
       "8  267.5      0.000602      1.009709  \n",
       "9  424.5      0.000000      1.619417  "
      ]
     },
     "execution_count": 294,
     "metadata": {},
     "output_type": "execute_result"
    }
   ],
   "source": [
    "top_by_time['hours_scaled'] = normalize(top_by_time['hours_played'].tolist())\n",
    "top_by_time['score_scaled'] = normalize(top_by_time['score'].tolist())\n",
    "top_by_time.reset_index(drop=True,inplace=True)\n",
    "top_by_time"
   ]
  },
  {
   "cell_type": "code",
   "execution_count": 295,
   "metadata": {},
   "outputs": [
    {
     "data": {
      "text/html": [
       "<div>\n",
       "<style scoped>\n",
       "    .dataframe tbody tr th:only-of-type {\n",
       "        vertical-align: middle;\n",
       "    }\n",
       "\n",
       "    .dataframe tbody tr th {\n",
       "        vertical-align: top;\n",
       "    }\n",
       "\n",
       "    .dataframe thead th {\n",
       "        text-align: right;\n",
       "    }\n",
       "</style>\n",
       "<table border=\"1\" class=\"dataframe\">\n",
       "  <thead>\n",
       "    <tr style=\"text-align: right;\">\n",
       "      <th></th>\n",
       "      <th>game</th>\n",
       "      <th>hours_played</th>\n",
       "      <th>genre</th>\n",
       "      <th>metascore</th>\n",
       "      <th>user_score</th>\n",
       "      <th>score</th>\n",
       "      <th>hours_scaled</th>\n",
       "      <th>score_scaled</th>\n",
       "    </tr>\n",
       "  </thead>\n",
       "  <tbody>\n",
       "    <tr>\n",
       "      <th>0</th>\n",
       "      <td>Portal 2</td>\n",
       "      <td>9117.1</td>\n",
       "      <td>Action</td>\n",
       "      <td>95</td>\n",
       "      <td>90</td>\n",
       "      <td>1786.0</td>\n",
       "      <td>0.591922</td>\n",
       "      <td>2.000000</td>\n",
       "    </tr>\n",
       "    <tr>\n",
       "      <th>1</th>\n",
       "      <td>BioShock Infinite</td>\n",
       "      <td>3689.1</td>\n",
       "      <td>Action</td>\n",
       "      <td>94</td>\n",
       "      <td>86</td>\n",
       "      <td>1174.5</td>\n",
       "      <td>0.225079</td>\n",
       "      <td>1.102056</td>\n",
       "    </tr>\n",
       "    <tr>\n",
       "      <th>2</th>\n",
       "      <td>Undertale</td>\n",
       "      <td>444.6</td>\n",
       "      <td>Role-Playing</td>\n",
       "      <td>92</td>\n",
       "      <td>83</td>\n",
       "      <td>786.0</td>\n",
       "      <td>0.005805</td>\n",
       "      <td>0.531571</td>\n",
       "    </tr>\n",
       "    <tr>\n",
       "      <th>3</th>\n",
       "      <td>Tomb Raider</td>\n",
       "      <td>3184.3</td>\n",
       "      <td>Action Adventure</td>\n",
       "      <td>86</td>\n",
       "      <td>85</td>\n",
       "      <td>563.0</td>\n",
       "      <td>0.190963</td>\n",
       "      <td>0.204112</td>\n",
       "    </tr>\n",
       "    <tr>\n",
       "      <th>4</th>\n",
       "      <td>Terraria</td>\n",
       "      <td>29951.8</td>\n",
       "      <td>Action</td>\n",
       "      <td>83</td>\n",
       "      <td>86</td>\n",
       "      <td>522.5</td>\n",
       "      <td>2.000000</td>\n",
       "      <td>0.144640</td>\n",
       "    </tr>\n",
       "    <tr>\n",
       "      <th>5</th>\n",
       "      <td>Dishonored</td>\n",
       "      <td>2842.2</td>\n",
       "      <td>Action Adventure</td>\n",
       "      <td>91</td>\n",
       "      <td>84</td>\n",
       "      <td>510.5</td>\n",
       "      <td>0.167843</td>\n",
       "      <td>0.127019</td>\n",
       "    </tr>\n",
       "    <tr>\n",
       "      <th>6</th>\n",
       "      <td>Torchlight II</td>\n",
       "      <td>6891.9</td>\n",
       "      <td>Role-Playing</td>\n",
       "      <td>88</td>\n",
       "      <td>85</td>\n",
       "      <td>491.0</td>\n",
       "      <td>0.441535</td>\n",
       "      <td>0.098385</td>\n",
       "    </tr>\n",
       "    <tr>\n",
       "      <th>7</th>\n",
       "      <td>Far Cry 3</td>\n",
       "      <td>5076.0</td>\n",
       "      <td>Action</td>\n",
       "      <td>88</td>\n",
       "      <td>83</td>\n",
       "      <td>478.5</td>\n",
       "      <td>0.318811</td>\n",
       "      <td>0.080029</td>\n",
       "    </tr>\n",
       "    <tr>\n",
       "      <th>8</th>\n",
       "      <td>Borderlands 2</td>\n",
       "      <td>22667.9</td>\n",
       "      <td>Action</td>\n",
       "      <td>89</td>\n",
       "      <td>82</td>\n",
       "      <td>424.5</td>\n",
       "      <td>1.507730</td>\n",
       "      <td>0.000734</td>\n",
       "    </tr>\n",
       "    <tr>\n",
       "      <th>9</th>\n",
       "      <td>The Secret World</td>\n",
       "      <td>358.7</td>\n",
       "      <td>Role-Playing</td>\n",
       "      <td>74</td>\n",
       "      <td>83</td>\n",
       "      <td>424.0</td>\n",
       "      <td>0.000000</td>\n",
       "      <td>0.000000</td>\n",
       "    </tr>\n",
       "  </tbody>\n",
       "</table>\n",
       "</div>"
      ],
      "text/plain": [
       "                game  hours_played             genre  metascore  user_score  \\\n",
       "0           Portal 2        9117.1            Action         95          90   \n",
       "1  BioShock Infinite        3689.1            Action         94          86   \n",
       "2          Undertale         444.6      Role-Playing         92          83   \n",
       "3        Tomb Raider        3184.3  Action Adventure         86          85   \n",
       "4           Terraria       29951.8            Action         83          86   \n",
       "5         Dishonored        2842.2  Action Adventure         91          84   \n",
       "6      Torchlight II        6891.9      Role-Playing         88          85   \n",
       "7          Far Cry 3        5076.0            Action         88          83   \n",
       "8      Borderlands 2       22667.9            Action         89          82   \n",
       "9   The Secret World         358.7      Role-Playing         74          83   \n",
       "\n",
       "    score  hours_scaled  score_scaled  \n",
       "0  1786.0      0.591922      2.000000  \n",
       "1  1174.5      0.225079      1.102056  \n",
       "2   786.0      0.005805      0.531571  \n",
       "3   563.0      0.190963      0.204112  \n",
       "4   522.5      2.000000      0.144640  \n",
       "5   510.5      0.167843      0.127019  \n",
       "6   491.0      0.441535      0.098385  \n",
       "7   478.5      0.318811      0.080029  \n",
       "8   424.5      1.507730      0.000734  \n",
       "9   424.0      0.000000      0.000000  "
      ]
     },
     "execution_count": 295,
     "metadata": {},
     "output_type": "execute_result"
    }
   ],
   "source": [
    "top_by_rt['hours_scaled'] = normalize(top_by_rt['hours_played'].tolist())\n",
    "top_by_rt['score_scaled'] = normalize(top_by_rt['score'].tolist())\n",
    "top_by_rt.reset_index(drop=True,inplace=True)\n",
    "top_by_rt"
   ]
  },
  {
   "cell_type": "code",
   "execution_count": 297,
   "metadata": {},
   "outputs": [
    {
     "data": {
      "image/png": "[encoded data removed]",
      "text/plain": [
       "<Figure size 864x576 with 1 Axes>"
      ]
     },
     "metadata": {
      "needs_background": "light"
     },
     "output_type": "display_data"
    }
   ],
   "source": [
    "#top 10 most played games\n",
    "fig1 = plt.figure(figsize=(12, 8))\n",
    "plt.plot(top_by_time['hours_scaled'],'-o',label='Hours Played')\n",
    "plt.plot(top_by_time['score_scaled'],'-o',label='Aggregate Score')\n",
    "plt.legend(title='Legend')\n",
    "\n",
    "plt.grid()\n",
    "plt.title('Play Time of Most Played Games v Rating Score.');\n",
    "plt.xlabel('Top Game Ranks');\n",
    "plt.ylabel('Normalized Score Scale');"
   ]
  },
  {
   "cell_type": "code",
   "execution_count": 298,
   "metadata": {},
   "outputs": [
    {
     "data": {
      "image/png": "[encoded data removed]",
      "text/plain": [
       "<Figure size 864x576 with 1 Axes>"
      ]
     },
     "metadata": {
      "needs_background": "light"
     },
     "output_type": "display_data"
    }
   ],
   "source": [
    "#top 10 highest-rated games\n",
    "fig1 = plt.figure(figsize=(12, 8))\n",
    "plt.plot(top_by_rt['hours_scaled'],'-o',label='Hours Played')\n",
    "plt.plot(top_by_rt['score_scaled'],'-o',label='Aggregate Score')\n",
    "plt.legend(title='Legend')\n",
    "\n",
    "plt.grid()\n",
    "plt.title('Play Time of Top Rated Games v Rating Score.');\n",
    "plt.xlabel('Top Game Ranks');\n",
    "plt.ylabel('Normalized Score Scale');"
   ]
  },
  {
   "cell_type": "code",
   "execution_count": null,
   "metadata": {},
   "outputs": [],
   "source": []
  }
 ],
 "metadata": {
  "kernelspec": {
   "display_name": "Python 3",
   "language": "python",
   "name": "python3"
  },
  "language_info": {
   "codemirror_mode": {
    "name": "ipython",
    "version": 3
   },
   "file_extension": ".py",
   "mimetype": "text/x-python",
   "name": "python",
   "nbconvert_exporter": "python",
   "pygments_lexer": "ipython3",
   "version": "3.7.6"
  }
 },
 "nbformat": 4,
 "nbformat_minor": 4
}
